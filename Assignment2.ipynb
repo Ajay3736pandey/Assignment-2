{
 "cells": [
  {
   "cell_type": "markdown",
   "id": "2cfb2d89",
   "metadata": {},
   "source": [
    "### SET2 "
   ]
  },
  {
   "cell_type": "markdown",
   "id": "2b7c211c",
   "metadata": {},
   "source": [
    "###### Question 1"
   ]
  },
  {
   "cell_type": "code",
   "execution_count": 1,
   "id": "37bcb599",
   "metadata": {},
   "outputs": [],
   "source": [
    "import scipy.stats as st"
   ]
  },
  {
   "cell_type": "code",
   "execution_count": 2,
   "id": "afd02c8d",
   "metadata": {},
   "outputs": [
    {
     "data": {
      "text/plain": [
       "0.7340144709512995"
      ]
     },
     "execution_count": 2,
     "metadata": {},
     "output_type": "execute_result"
    }
   ],
   "source": [
    "st.norm.cdf(60, loc=55,scale=8)"
   ]
  },
  {
   "cell_type": "code",
   "execution_count": 3,
   "id": "d0e96dfb",
   "metadata": {
    "scrolled": true
   },
   "outputs": [
    {
     "data": {
      "text/plain": [
       "0.26598552904870054"
      ]
     },
     "execution_count": 3,
     "metadata": {},
     "output_type": "execute_result"
    }
   ],
   "source": [
    "1-st.norm.cdf(60, loc=55,scale=8)"
   ]
  },
  {
   "cell_type": "markdown",
   "id": "d533cdbe",
   "metadata": {},
   "source": [
    "###### Question 4 "
   ]
  },
  {
   "cell_type": "code",
   "execution_count": 5,
   "id": "1f625a59",
   "metadata": {},
   "outputs": [
    {
     "data": {
      "text/plain": [
       "-2.575829303548901"
      ]
     },
     "execution_count": 5,
     "metadata": {},
     "output_type": "execute_result"
    }
   ],
   "source": [
    "st.norm.ppf(0.005)"
   ]
  },
  {
   "cell_type": "code",
   "execution_count": 6,
   "id": "3c3333bc",
   "metadata": {},
   "outputs": [
    {
     "data": {
      "text/plain": [
       "2.5758293035489004"
      ]
     },
     "execution_count": 6,
     "metadata": {},
     "output_type": "execute_result"
    }
   ],
   "source": [
    "st.norm.ppf(0.995)"
   ]
  },
  {
   "cell_type": "markdown",
   "id": "4b8e937b",
   "metadata": {},
   "source": [
    "###### Question 5 "
   ]
  },
  {
   "cell_type": "code",
   "execution_count": 7,
   "id": "58f74c35",
   "metadata": {},
   "outputs": [
    {
     "data": {
      "text/plain": [
       "(99.00810347848784, 980.9918965215122)"
      ]
     },
     "execution_count": 7,
     "metadata": {},
     "output_type": "execute_result"
    }
   ],
   "source": [
    "st.norm.interval(0.95,540,225)"
   ]
  },
  {
   "cell_type": "code",
   "execution_count": 8,
   "id": "42d24e26",
   "metadata": {},
   "outputs": [
    {
     "data": {
      "text/plain": [
       "-1.6448536269514729"
      ]
     },
     "execution_count": 8,
     "metadata": {},
     "output_type": "execute_result"
    }
   ],
   "source": [
    "st.norm.ppf(0.05)"
   ]
  },
  {
   "cell_type": "code",
   "execution_count": 9,
   "id": "1a71b102",
   "metadata": {},
   "outputs": [
    {
     "data": {
      "text/plain": [
       "0.08985204980555433"
      ]
     },
     "execution_count": 9,
     "metadata": {},
     "output_type": "execute_result"
    }
   ],
   "source": [
    "st.norm.cdf(0.975, loc=5,scale=3)"
   ]
  },
  {
   "cell_type": "code",
   "execution_count": 10,
   "id": "7c9cbc3d",
   "metadata": {},
   "outputs": [
    {
     "data": {
      "text/plain": [
       "0.0660015041599433"
      ]
     },
     "execution_count": 10,
     "metadata": {},
     "output_type": "execute_result"
    }
   ],
   "source": [
    "st.norm.cdf(0.975, loc=7,scale=4)"
   ]
  },
  {
   "cell_type": "markdown",
   "id": "0f179a6d",
   "metadata": {},
   "source": [
    "## Set1 "
   ]
  },
  {
   "cell_type": "code",
   "execution_count": 2,
   "id": "d276200e",
   "metadata": {},
   "outputs": [],
   "source": [
    "import pandas as pd \n",
    "import numpy as np \n",
    "import matplotlib.pyplot as plt "
   ]
  },
  {
   "cell_type": "code",
   "execution_count": 8,
   "id": "400a25a1",
   "metadata": {},
   "outputs": [],
   "source": [
    "x=[24.23,25.53,25.41,24.14,29.62,28.25,25.81,24.39,40.26,32.95,91.36,25.99,39.42,26.71,35.00]"
   ]
  },
  {
   "cell_type": "code",
   "execution_count": 9,
   "id": "572be8a7",
   "metadata": {},
   "outputs": [],
   "source": [
    "x=pd.DataFrame(x)"
   ]
  },
  {
   "cell_type": "code",
   "execution_count": 10,
   "id": "9480eff3",
   "metadata": {},
   "outputs": [
    {
     "data": {
      "text/plain": [
       "0    0.332713\n",
       "dtype: float64"
      ]
     },
     "execution_count": 10,
     "metadata": {},
     "output_type": "execute_result"
    }
   ],
   "source": [
    "mean = x.mean()\n",
    "mean/100"
   ]
  },
  {
   "cell_type": "code",
   "execution_count": 13,
   "id": "e3014185",
   "metadata": {},
   "outputs": [
    {
     "data": {
      "text/plain": [
       "0    0.169454\n",
       "dtype: float64"
      ]
     },
     "execution_count": 13,
     "metadata": {},
     "output_type": "execute_result"
    }
   ],
   "source": [
    "std=x.std()\n",
    "std/100"
   ]
  },
  {
   "cell_type": "code",
   "execution_count": 14,
   "id": "b74153d9",
   "metadata": {},
   "outputs": [
    {
     "data": {
      "text/plain": [
       "0    0.028715\n",
       "dtype: float64"
      ]
     },
     "execution_count": 14,
     "metadata": {},
     "output_type": "execute_result"
    }
   ],
   "source": [
    "var=x.var()\n",
    "var/10000"
   ]
  },
  {
   "cell_type": "code",
   "execution_count": 19,
   "id": "57a6d05d",
   "metadata": {},
   "outputs": [
    {
     "data": {
      "text/plain": [
       "({'whiskers': [<matplotlib.lines.Line2D at 0x2152d417fd0>,\n",
       "   <matplotlib.lines.Line2D at 0x2152d4282e0>],\n",
       "  'caps': [<matplotlib.lines.Line2D at 0x2152d4285b0>,\n",
       "   <matplotlib.lines.Line2D at 0x2152d428880>],\n",
       "  'boxes': [<matplotlib.lines.Line2D at 0x2152d417d00>],\n",
       "  'medians': [<matplotlib.lines.Line2D at 0x2152d428b50>],\n",
       "  'fliers': [<matplotlib.lines.Line2D at 0x2152d428e20>],\n",
       "  'means': []},\n",
       "                0\n",
       " count  15.000000\n",
       " mean   33.271333\n",
       " std    16.945401\n",
       " min    24.140000\n",
       " 25%    25.470000\n",
       " 50%    26.710000\n",
       " 75%    33.975000\n",
       " max    91.360000)"
      ]
     },
     "execution_count": 19,
     "metadata": {},
     "output_type": "execute_result"
    },
    {
     "data": {
      "image/png": "[encoded data removed]",
      "text/plain": [
       "<Figure size 432x288 with 1 Axes>"
      ]
     },
     "metadata": {
      "needs_background": "light"
     },
     "output_type": "display_data"
    }
   ],
   "source": [
    "plt.boxplot(x),x.describe()"
   ]
  },
  {
   "cell_type": "markdown",
   "id": "4d70f535",
   "metadata": {},
   "source": [
    " "
   ]
  }
 ],
 "metadata": {
  "kernelspec": {
   "display_name": "Python 3 (ipykernel)",
   "language": "python",
   "name": "python3"
  },
  "language_info": {
   "codemirror_mode": {
    "name": "ipython",
    "version": 3
   },
   "file_extension": ".py",
   "mimetype": "text/x-python",
   "name": "python",
   "nbconvert_exporter": "python",
   "pygments_lexer": "ipython3",
   "version": "3.9.12"
  }
 },
 "nbformat": 4,
 "nbformat_minor": 5
}
